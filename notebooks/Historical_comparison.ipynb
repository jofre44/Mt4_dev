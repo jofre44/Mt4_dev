{
 "cells": [
  {
   "cell_type": "code",
   "execution_count": null,
   "metadata": {},
   "outputs": [],
   "source": [
    "import pandas as pd\n",
    "import os\n",
    "import glob"
   ]
  },
  {
   "cell_type": "code",
   "execution_count": null,
   "metadata": {},
   "outputs": [],
   "source": [
    "path = r'../data/historical_data'\n",
    "os.chdir(path)\n",
    "hist_list = glob.glob('*.csv')\n",
    "# df_fx = pd.read_csv(path+ \"/\" + fx_csv)"
   ]
  },
  {
   "cell_type": "code",
   "execution_count": null,
   "metadata": {},
   "outputs": [],
   "source": [
    "pair_list = list(set([pair[:6] for pair in hist_list]))"
   ]
  },
  {
   "cell_type": "code",
   "execution_count": null,
   "metadata": {},
   "outputs": [],
   "source": [
    "df_pair = pd.DataFrame()\n",
    "start_date = pd.to_datetime('2018-01-01')\n",
    "end_date = pd.to_datetime('2020-01-01')\n",
    "\n",
    "fx_csv = list(filter(lambda x: x[:6] == pair_list[1], hist_list))\n",
    "print(pair_list[1])\n",
    "\n",
    "df_mt4 = pd.read_csv(fx_csv[0], names=['date', 'time', 'open', 'max', 'min', 'close'], index_col = False)\n",
    "df_mt4['date_time'] = pd.to_datetime(df_mt4['date']+ ' '+ df_mt4['time'])\n",
    "df_mt4 = df_mt4[(df_mt4.date_time >= start_date) & (df_mt4.date_time < end_date)]\n",
    "df_mt4['data_type'] = 'mt4' if len(fx_csv[0]) > 20 else 'dwx'\n",
    "df_mt4.drop(['date', 'time'], axis=1, inplace = True)\n",
    "df_mt4.set_index('date_time', inplace = True)\n",
    "\n",
    "df_dwx = pd.read_csv(fx_csv[1], names=['date', 'time', 'open', 'max', 'min', 'close'], index_col = False)\n",
    "df_dwx['date_time'] = pd.to_datetime(df_dwx['date']+ ' '+ df_dwx['time'])\n",
    "df_dwx = df_dwx[(df_dwx.date_time >= start_date) & (df_dwx.date_time < end_date)]\n",
    "df_dwx['data_type'] = 'mt4' if len(fx_csv[1]) > 20 else 'dwx'\n",
    "df_dwx.drop(['date', 'time'],  axis=1, inplace = True)\n",
    "df_dwx.set_index('date_time', inplace = True)"
   ]
  },
  {
   "cell_type": "code",
   "execution_count": null,
   "metadata": {},
   "outputs": [],
   "source": [
    "df_pair = df_mt4.join(df_dwx, lsuffix = '_{}'.format(df_mt4.data_type[0]), rsuffix = '_{}'.format(df_dwx.data_type[0]))"
   ]
  },
  {
   "cell_type": "code",
   "execution_count": null,
   "metadata": {},
   "outputs": [],
   "source": [
    "df_pair.drop(['data_type_dwx', 'data_type_mt4'], axis = 1, inplace = True)"
   ]
  },
  {
   "cell_type": "code",
   "execution_count": null,
   "metadata": {},
   "outputs": [],
   "source": [
    "df_pair.dropna(inplace = True)"
   ]
  },
  {
   "cell_type": "code",
   "execution_count": null,
   "metadata": {},
   "outputs": [],
   "source": [
    "df_pair['open_diff'] = df_pair.open_dwx - df_pair.open_mt4\n",
    "df_pair['max_diff'] = df_pair.max_dwx - df_pair.max_mt4\n",
    "df_pair['min_diff'] = df_pair.min_dwx - df_pair.min_mt4\n",
    "df_pair['close_diff'] = df_pair.close_dwx - df_pair.close_mt4"
   ]
  },
  {
   "cell_type": "code",
   "execution_count": null,
   "metadata": {},
   "outputs": [],
   "source": [
    "import plotly.graph_objects as go\n",
    "fig = go.Figure()\n",
    "\n",
    "fig.add_trace(go.Scatter(\n",
    "                x=df_pair.index,\n",
    "                y=df_pair.min_dwx,\n",
    "                name='DWX',\n",
    "                line_color='red'))\n",
    "\n",
    "fig.add_trace(go.Scatter(\n",
    "                x=df_pair.index,\n",
    "                y=df_pair.min_mt4,\n",
    "                name='MT4',\n",
    "                line_color= 'black'))\n",
    "\n",
    "fig.show()"
   ]
  },
  {
   "cell_type": "code",
   "execution_count": null,
   "metadata": {},
   "outputs": [],
   "source": [
    "import plotly.express as px\n",
    "df = px.data.tips()\n",
    "fig = px.histogram(df_pair, x=\"close_diff\")\n",
    "fig.show()"
   ]
  }
 ],
 "metadata": {
  "kernelspec": {
   "display_name": "Python 3",
   "language": "python",
   "name": "python3"
  },
  "language_info": {
   "codemirror_mode": {
    "name": "ipython",
    "version": 3
   },
   "file_extension": ".py",
   "mimetype": "text/x-python",
   "name": "python",
   "nbconvert_exporter": "python",
   "pygments_lexer": "ipython3",
   "version": "3.8.2"
  }
 },
 "nbformat": 4,
 "nbformat_minor": 4
}
