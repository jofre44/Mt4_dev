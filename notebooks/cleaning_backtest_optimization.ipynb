{
 "cells": [
  {
   "cell_type": "code",
   "execution_count": null,
   "metadata": {},
   "outputs": [],
   "source": [
    "import pandas as pd\n",
    "import datetime as dt\n",
    "import os\n",
    "import glob"
   ]
  },
  {
   "cell_type": "code",
   "execution_count": null,
   "metadata": {},
   "outputs": [],
   "source": [
    "path = r'../data/optimization'\n",
    "os.chdir(path)\n",
    "hist_list = glob.glob('*.csv')\n",
    "# df_fx = pd.read_csv(path+ \"/\" + fx_csv)"
   ]
  },
  {
   "cell_type": "code",
   "execution_count": null,
   "metadata": {},
   "outputs": [],
   "source": [
    "# Parametros de entrada\n",
    "metrics_list = ['METRIC', 'PROFIT', 'TOTAL TRADES', 'PROFIT FACTOR', 'EXPECTED PAYOFF','EQUITY DD MAX', 'EFICIENCIA CURVA', \n",
    "                'TRADES PER MONTH', 'PROFIT % PER YEAR', 'CA', 'DW%', 'RELACION 24 MESES', 'RELACION 12 MESES', \n",
    "                'RELACION 6 MESES', 'MEDIA CO', 'MAXIMO CO']\n",
    "date_start = '2015-01-01'\n",
    "date_end = '2019-12-31'\n",
    "anual_return = 0.1\n",
    "max_dd_allow = 0.12\n",
    "min_trades_month = 2.5\n",
    "\n",
    "# Caculating filters\n",
    "date_start = dt.datetime.strptime(date_start, '%Y-%m-%d')\n",
    "date_end = dt.datetime.strptime(date_end, '%Y-%m-%d')\n",
    "total_months = (date_end.year - date_start.year) * 12 + (date_end.month - date_start.month) +1\n",
    "print('Total months: {}'.format(total_months))\n",
    "np_dd_ratio = round((anual_return/12*total_months)/max_dd_allow,2)\n",
    "print('Ratio Net Profit / DD allowed: {}'.format(np_dd_ratio))\n",
    "total_trades = round(min_trades_month*total_months,0)\n",
    "print('Min trades: {}'.format(total_trades))"
   ]
  },
  {
   "cell_type": "code",
   "execution_count": null,
   "metadata": {},
   "outputs": [],
   "source": [
    "df_opt = pd.read_csv(hist_list[0], sep = ';').set_index('#')\n",
    "df_opt"
   ]
  },
  {
   "cell_type": "code",
   "execution_count": null,
   "metadata": {},
   "outputs": [],
   "source": [
    "print('Original rows: {}'.format(len(df_opt)))"
   ]
  },
  {
   "cell_type": "code",
   "execution_count": null,
   "metadata": {},
   "outputs": [],
   "source": [
    "df_param = df_opt.drop(metrics_list, axis = 1)\n",
    "\n",
    "# Delete repeated params\n",
    "df_param.drop_duplicates(inplace = True)\n",
    "df_param"
   ]
  },
  {
   "cell_type": "code",
   "execution_count": null,
   "metadata": {},
   "outputs": [],
   "source": [
    "df_opt = df_opt.loc[df_param.index]\n",
    "df_opt.reset_index(drop = True, inplace = True)\n",
    "df_opt"
   ]
  },
  {
   "cell_type": "code",
   "execution_count": null,
   "metadata": {},
   "outputs": [],
   "source": [
    "df_metrics = df_opt[metrics_list]\n",
    "\n",
    "# Cleaning opt\n",
    "df_metrics = df_metrics[df_metrics['PROFIT FACTOR'] >= 1.3]\n",
    "df_metrics = df_metrics[df_metrics['RELACION 6 MESES'] >= 0.0]\n",
    "df_metrics = df_metrics[df_metrics['RELACION 12 MESES'] >= 0.25]\n",
    "df_metrics = df_metrics[df_metrics['RELACION 24 MESES'] >= 0.5]\n",
    "df_metrics = df_metrics[(df_metrics['PROFIT'] /  df_metrics['EQUITY DD MAX']) >= np_dd_ratio]\n",
    "df_metrics = df_metrics[df_metrics['TOTAL TRADES'] >= total_trades]\n",
    "\n",
    "df_metrics"
   ]
  },
  {
   "cell_type": "code",
   "execution_count": null,
   "metadata": {},
   "outputs": [],
   "source": [
    "df_opt = df_opt.loc[df_metrics.index]\n",
    "df_opt.reset_index(drop = True, inplace = True)\n",
    "df_opt"
   ]
  },
  {
   "cell_type": "code",
   "execution_count": null,
   "metadata": {},
   "outputs": [],
   "source": [
    "from sklearn.cluster import AffinityPropagation\n",
    "\n",
    "df_param = df_opt.drop(metrics_list, axis = 1)\n",
    "df_copy = df_param.iloc[:10000].copy()\n",
    "\n",
    "# Fit AFfinity Propagation with Scikit\n",
    "afprop = AffinityPropagation(max_iter=500, random_state=5, )\n",
    "af = afprop.fit(df_copy)"
   ]
  },
  {
   "cell_type": "code",
   "execution_count": null,
   "metadata": {},
   "outputs": [],
   "source": [
    "centers = af.cluster_centers_indices_"
   ]
  },
  {
   "cell_type": "code",
   "execution_count": null,
   "metadata": {},
   "outputs": [],
   "source": [
    "df_copy.iloc[centers]"
   ]
  }
 ],
 "metadata": {
  "kernelspec": {
   "display_name": "Python 3",
   "language": "python",
   "name": "python3"
  },
  "language_info": {
   "codemirror_mode": {
    "name": "ipython",
    "version": 3
   },
   "file_extension": ".py",
   "mimetype": "text/x-python",
   "name": "python",
   "nbconvert_exporter": "python",
   "pygments_lexer": "ipython3",
   "version": "3.8.2"
  }
 },
 "nbformat": 4,
 "nbformat_minor": 4
}
