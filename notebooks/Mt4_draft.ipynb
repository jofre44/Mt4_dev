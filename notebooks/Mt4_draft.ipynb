{
 "cells": [
  {
   "cell_type": "code",
   "execution_count": null,
   "metadata": {},
   "outputs": [],
   "source": [
    "import pandas as pd\n",
    "import numpy as np\n",
    "import datetime as dt\n",
    "import math\n",
    "import matplotlib.pyplot as plt\n",
    "import matplotlib.dates as mdates\n",
    "import plotly.express as px\n",
    "import plotly.graph_objects as go\n",
    "import statsmodels.api as sm\n",
    "import sklearn.metrics as sk\n",
    "import glob\n",
    "\n",
    "pd.options.mode.chained_assignment = None "
   ]
  },
  {
   "cell_type": "code",
   "execution_count": null,
   "metadata": {},
   "outputs": [],
   "source": [
    "path = \"C:/Users/Isabel Cristina/Desktop/Set_proyection/Backtest_launcher/BT/*.htm\" \n",
    "reports = glob.glob(path)\n",
    "\n",
    "\n",
    "magic_number = reports[3].split()[2]\n",
    "print('Reading BT: ', magic_number)\n",
    "file = pd.read_html(reports[3])\n",
    "backtest_df = file[1]\n",
    "backtest_df.columns = backtest_df.iloc[0]\n",
    "backtest_df = backtest_df.iloc[1:]\n",
    "backtest_df = backtest_df[backtest_df['Balance'].notna()].reset_index(drop=True)\n",
    "backtest_df['Magic_Number'] = magic_number\n",
    "bt_df = backtest_df\n",
    "bt_df['Tiempo'] = pd.to_datetime(bt_df['Tiempo'])\n",
    "bt_df['Beneficios'] = pd.to_numeric(bt_df.Beneficios)\n",
    "bt_df['Balance'] = pd.to_numeric(bt_df.Balance)"
   ]
  },
  {
   "cell_type": "code",
   "execution_count": null,
   "metadata": {},
   "outputs": [],
   "source": [
    "bt_df"
   ]
  },
  {
   "cell_type": "code",
   "execution_count": null,
   "metadata": {},
   "outputs": [],
   "source": [
    "#Beneficio bruto\n",
    "ben_bruto = bt_df[bt_df.Beneficios > 0]['Beneficios'].sum()\n",
    "\n",
    "#Perdida bruta\n",
    "per_bruta = bt_df[bt_df.Beneficios < 0]['Beneficios'].sum()\n",
    "\n",
    "#Profit factor \n",
    "pf = ben_bruto/abs(per_bruta)\n",
    "\n",
    "#Beneficio esperado\n",
    "ben_esp = (ben_bruto+per_bruta)/len(bt_df)\n",
    "\n",
    "#Maximo DD\n",
    "dd_df = bt_df.copy()\n",
    "dd_df = dd_df[['Tiempo','Balance']]\n",
    "dd_df = pd.DataFrame({'Tiempo': [dd_df.Tiempo[0]], 'Balance': [10000]}).append(dd_df).reset_index()\n",
    "dd_df['Act_max'] = dd_df.Balance.cummax()\n",
    "dd_df['DD'] = dd_df.Act_max - dd_df.Balance\n",
    "max_dd = dd_df['DD'].max()\n",
    "\n",
    "#Maximo beneficio\n",
    "max_ben = bt_df.Beneficios.sum()\n",
    "\n",
    "#Net recovey\n",
    "net_factor = max_ben/max_dd\n",
    "\n",
    "#CA \n",
    "month_df = bt_df.copy()\n",
    "month_df = month_df[['Tiempo']]\n",
    "month_df['month_year'] = month_df['Tiempo'].dt.to_period('M')\n",
    "month_group = month_df.groupby(['month_year']).count()\n",
    "total_months = len(month_group)\n",
    "ca_kpi = max_ben/ (max_dd * total_months)\n",
    "\n",
    "#Divergencia de ganadoras\n",
    "mean_sl = abs(bt_df[bt_df.Beneficios < 0]['Beneficios'].mean())\n",
    "mean_tp = bt_df[bt_df.Beneficios > 0]['Beneficios'].mean()\n",
    "min_div = mean_sl/(mean_tp+mean_sl)\n",
    "neg_trades = len(bt_df[bt_df.Beneficios < 0])\n",
    "pos_trades = len(bt_df[bt_df.Beneficios > 0])\n",
    "real_div = pos_trades/(pos_trades+neg_trades)\n",
    "\n",
    "#R-squared\n",
    "r2_df = bt_df[['Tiempo', 'Balance']].set_index('Tiempo')\n",
    "r2_df['Time_num'] = mdates.date2num(r2_df.index)\n",
    "reg = np.polyfit(np.array(r2_df.Time_num),np.array(r2_df.Balance),1)\n",
    "r2_df['Regre'] = reg[0]*r2_df.Time_num + reg[1]\n",
    "r2_kpi = sk.r2_score(r2_df.Balance, r2_df.Regre)\n",
    "r2_kpi"
   ]
  },
  {
   "cell_type": "code",
   "execution_count": null,
   "metadata": {},
   "outputs": [],
   "source": [
    "fig = go.Figure()\n",
    "\n",
    "fig.add_trace(go.Scatter(\n",
    "                x=r2_df.index,\n",
    "                y=r2_df.Balance,\n",
    "                line_color = 'yellow'))\n",
    "fig.add_trace(go.Scatter(\n",
    "                x=r2_df.index,\n",
    "                y=r2_df.Regre,\n",
    "                line_color = 'black'))"
   ]
  },
  {
   "cell_type": "code",
   "execution_count": null,
   "metadata": {},
   "outputs": [],
   "source": [
    "dd_df2 = dd_df.copy()\n",
    "bt_df2 = bt_df.copy()"
   ]
  },
  {
   "cell_type": "code",
   "execution_count": null,
   "metadata": {},
   "outputs": [],
   "source": [
    "dd_tot = bt_df.append(bt_df2).reset_index()\n",
    "dd_tot = dd_tot[['Tiempo','Beneficios']].sort_values('Tiempo')\n",
    "dd_tot['Balance'] = dd_tot.Beneficios.cumsum()\n",
    "dd_tot = pd.DataFrame({'Tiempo': [dd_tot.Tiempo[0]], 'Balance': [0]}).append(dd_tot).reset_index()\n",
    "dd_tot['Act_max'] = dd_tot.Balance.cummax()\n",
    "dd_tot['DD'] = dd_tot.Act_max - dd_tot.Balance\n",
    "max_dd_tot = dd_tot['DD'].max()"
   ]
  },
  {
   "cell_type": "code",
   "execution_count": null,
   "metadata": {},
   "outputs": [],
   "source": [
    "fig = go.Figure()\n",
    "\n",
    "fig.add_trace(go.Scatter(\n",
    "                x=dd_df.Tiempo,\n",
    "                y=dd_df.DD,\n",
    "                opacity=0.5,\n",
    "                fill='tozeroy'))\n",
    "fig.add_trace(go.Scatter(\n",
    "                x=dd_df2.Tiempo,\n",
    "                y=dd_df2.DD,\n",
    "                opacity=0.5,\n",
    "                fill='tozeroy'))\n",
    "fig.add_trace(go.Scatter(\n",
    "                x=dd_tot.Tiempo,\n",
    "                y=dd_tot.DD,\n",
    "                line_color = 'black'))"
   ]
  },
  {
   "cell_type": "markdown",
   "metadata": {},
   "source": [
    "***Monte Carlo con Condiciones***"
   ]
  },
  {
   "cell_type": "code",
   "execution_count": null,
   "metadata": {},
   "outputs": [],
   "source": [
    "data_mt = data_df[data_df.Magic_Number == '19095']\n",
    "total_trades = len(data_mt)\n",
    "df_real = data_mt.loc[:, 'Beneficios'].to_frame()"
   ]
  },
  {
   "cell_type": "code",
   "execution_count": null,
   "metadata": {},
   "outputs": [],
   "source": [
    "fig = px.box(df_real, y = 'Beneficios')\n",
    "fig.show()"
   ]
  },
  {
   "cell_type": "code",
   "execution_count": null,
   "metadata": {},
   "outputs": [],
   "source": [
    "#random.seed(30)\n",
    "#flags and configs\n",
    "delete_percentile = True\n",
    "select_perncentile = 95 # value between 0 and 100\n",
    "decrease_beneficio = False\n",
    "decrease_value = 0.90 #value betwen 0 and 1\n",
    "\n",
    "it_num = 100\n",
    "#calculation\n",
    "df_percent = df_real\n",
    "\n",
    "if (delete_percentile):\n",
    "    percent_value = np.percentile(df_real,select_perncentile)\n",
    "    df_percent = df_real.loc[df_real.Beneficios <= percent_value,].reset_index(drop=True)\n",
    "    print('Percentile value : {:0.2f}'.format(percent_value))\n",
    "\n",
    "if (decrease_beneficio) :\n",
    "    decre_list = pd.Series(np.random.randint(2, size=len(df_percent)), name = 'dummy_decre')\n",
    "    df_percent = pd.concat([df_percent, decre_list], axis = 1)\n",
    "    df_percent['Beneficios'] = df_percent.Beneficios-(df_percent.dummy_decre*(df_percent.Beneficios*decrease_value))\n",
    "\n",
    "# iteration calculations\n",
    "it_dic = {it: df_percent.loc[random.choices(list(df_percent.index), k = total_trades),'Beneficios'].reset_index()\n",
    "       for it in range(1,it_num)}\n",
    "\n",
    "df_it  = pd.concat(it_dic.values(), axis = 1)\n",
    "df_it = df_it.drop('index',1)\n",
    "df = pd.concat([df_real, df_it], axis=1)\n",
    "df = df.cumsum()\n",
    "\n",
    "print('Ganancia del set: {:0.2f}'.format(df.iloc[-1,0]))\n",
    "\n",
    "#plot\n",
    "palette = plt.get_cmap('Set1')\n",
    "num=0\n",
    "plt.figure(figsize=(12,8))\n",
    "for column in df.columns:\n",
    "    num+=1\n",
    "    plt.plot(df.index, df[column], marker='', color=palette(num), linewidth=1, alpha=0.9, label=column)"
   ]
  },
  {
   "cell_type": "markdown",
   "metadata": {},
   "source": [
    "***Prueba Rolling Profic Factor***"
   ]
  },
  {
   "cell_type": "code",
   "execution_count": null,
   "metadata": {},
   "outputs": [],
   "source": [
    "# data_df = data_df[data_df.Magic_Number =='22058']\n",
    "cesta = magic_list\n",
    "data_df = data_df[data_df.Magic_Number.isin(cesta)]\n",
    "\n",
    "data_porfit_factor = pd.DataFrame()\n",
    "\n",
    "for magic in cesta:\n",
    "\n",
    "    data_aux = data_df[data_df.Magic_Number ==magic]\n",
    "    data_prueba = data_aux.sort_values(by=['Tiempo'])\n",
    "    data_prueba['Beneficios_pos'] = data_prueba[data_prueba.Beneficios > 0]['Beneficios']\n",
    "    data_prueba['Beneficios_pos'] = data_prueba['Beneficios_pos'].fillna(0)\n",
    "    data_prueba['Beneficios_neg'] = data_prueba[data_prueba.Beneficios < 0]['Beneficios']\n",
    "    data_prueba['Beneficios_neg'] = data_prueba['Beneficios_neg'].fillna(0)\n",
    "    data_prueba['Profit_cum_pos'] = 0\n",
    "    data_prueba['Profit_cum_neg'] = 0\n",
    "    data_prueba['Window'] = 0\n",
    "\n",
    "#     for i in range(5,31,5):\n",
    "\n",
    "#         data_prueba['Profit_cum_pos'] = data_prueba['Beneficios_pos'].rolling(i).sum()\n",
    "#         data_prueba['Profit_cum_neg'] = data_prueba['Beneficios_neg'].rolling(i).sum()\n",
    "#         data_prueba['Window'] = i\n",
    "#         data_porfit_factor = data_porfit_factor.append(data_prueba)\n",
    "\n",
    "    roll_window = round(cons_trades_neg[magic]*1.3+0.5)\n",
    "    data_prueba['Profit_cum_pos'] = data_prueba['Beneficios_pos'].rolling(roll_window).sum()\n",
    "    data_prueba['Profit_cum_neg'] = data_prueba['Beneficios_neg'].rolling(roll_window).sum()\n",
    "    data_prueba['Window'] = roll_window\n",
    "    data_porfit_factor = data_porfit_factor.append(data_prueba)\n",
    "    \n",
    "\n",
    "data_porfit_factor = data_porfit_factor.replace([np.inf, -np.inf], 0)\n",
    "data_porfit_factor = data_porfit_factor[data_porfit_factor['Profit_cum_pos'].notna()].reset_index(drop=True)\n",
    "data_porfit_factor['Profit_Factor_roll'] = (data_porfit_factor['Profit_cum_pos'] / data_porfit_factor['Profit_cum_neg']).abs()\n",
    "\n",
    "data_porfit_factor = data_porfit_factor.drop(['Beneficios_pos', 'Beneficios_neg'],axis=1)"
   ]
  },
  {
   "cell_type": "code",
   "execution_count": null,
   "metadata": {},
   "outputs": [],
   "source": [
    "df_backtest[df_backtest.Magic_Number.isin(selected_port)]"
   ]
  },
  {
   "cell_type": "code",
   "execution_count": null,
   "metadata": {},
   "outputs": [],
   "source": [
    "windows_list = [*range(5,31,5)]\n",
    "\n",
    "color = []\n",
    "for i in range(1,(len(magic_in_real)+1)):\n",
    "    color.append('#%06X' % randint(0, 0xFFFFFF))\n",
    "# for i in windows_list:\n",
    "#     color.append('#%06X' % randint(0, 0xFFFFFF))\n",
    "    "
   ]
  },
  {
   "cell_type": "markdown",
   "metadata": {},
   "source": [
    "***Profit Factor por Ventana***"
   ]
  },
  {
   "cell_type": "code",
   "execution_count": null,
   "metadata": {},
   "outputs": [],
   "source": [
    "dd_prueba = data_porfit_factor[ data_porfit_factor['Profit_Factor_roll'] <= 6]\n",
    "\n",
    "fig = px.box(dd_prueba, x=\"Window\", y=\"Profit_Factor_roll\", color=\"Magic_Number\")\n",
    "fig.show()"
   ]
  },
  {
   "cell_type": "code",
   "execution_count": null,
   "metadata": {},
   "outputs": [],
   "source": [
    "from plotly.offline import plot\n",
    "plot(fig, \n",
    "     filename='test.html')"
   ]
  },
  {
   "cell_type": "code",
   "execution_count": null,
   "metadata": {},
   "outputs": [],
   "source": [
    "dd_prueba.describe()"
   ]
  },
  {
   "cell_type": "code",
   "execution_count": null,
   "metadata": {},
   "outputs": [],
   "source": [
    "fig = go.Figure()\n",
    "\n",
    "\n",
    "for i in range(0,len(magic_in_real)):\n",
    "    \n",
    "    df_filter = data_porfit_factor[data_porfit_factor.Magic_Number == magic_in_real[i]]\n",
    "    df_filter = df_filter[(df_filter.Profit_Factor_roll <= 10)]\n",
    "    \n",
    "    fig.add_trace(go.Scatter(\n",
    "                    x=df_filter.Tiempo,\n",
    "                    y=df_filter.Profit_Factor_roll,\n",
    "                    name=str(magic_in_real[i]),\n",
    "                    line_color=color[i],\n",
    "                    opacity=0.8))\n",
    "\n",
    "fig.show()"
   ]
  }
 ],
 "metadata": {
  "kernelspec": {
   "display_name": "Python 3",
   "language": "python",
   "name": "python3"
  },
  "language_info": {
   "codemirror_mode": {
    "name": "ipython",
    "version": 3
   },
   "file_extension": ".py",
   "mimetype": "text/x-python",
   "name": "python",
   "nbconvert_exporter": "python",
   "pygments_lexer": "ipython3",
   "version": "3.8.2"
  }
 },
 "nbformat": 4,
 "nbformat_minor": 4
}
