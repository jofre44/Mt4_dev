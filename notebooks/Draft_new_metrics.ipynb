{
 "cells": [
  {
   "cell_type": "code",
   "execution_count": null,
   "metadata": {},
   "outputs": [],
   "source": [
    "from tools.stat_tools.stat_tools import *\n",
    "from tools.visualization.visualization import *\n",
    "import pandas as pd\n",
    "import random\n",
    "import numpy as np\n",
    "import datetime as dt\n",
    "import math\n",
    "import matplotlib.pyplot as plt\n",
    "import plotly.express as px\n",
    "import random\n",
    "import os\n",
    "import glob\n",
    "\n",
    "pd.options.mode.chained_assignment = None "
   ]
  },
  {
   "cell_type": "code",
   "execution_count": null,
   "metadata": {},
   "outputs": [],
   "source": [
    "path = \"C:/Users/Isabel Cristina/Desktop/Set_proyection/Backtest_launcher/BT/*.htm\" \n",
    "reports = glob.glob(path)\n",
    "cons_trades_neg = dict()\n",
    "mn_list = ['22018', '22058', '22068', '18058', '18065', '18024', '19106', '20025', '22015', '22020', '18027', '25015', \n",
    "           '22000', '18076', '22172', '25006', '25035', '25099', '18090', '22021', '22035', '22059', '22087', '22129', \n",
    "           '25013', '25090', '25355', '220931']\n",
    "for i in range(0,len(reports)): # len(reports)\n",
    "    \n",
    "    magic_number = reports[i].split()[2]\n",
    "    if magic_number in mn_list:\n",
    "        print('Reading BT: ', magic_number)\n",
    "        file = pd.read_html(reports[i])\n",
    "        backtest_df = file[1]\n",
    "        backtest_df.columns = backtest_df.iloc[0]\n",
    "        backtest_df = backtest_df.iloc[1:]\n",
    "        backtest_df['Magic_Number'] = magic_number\n",
    "        if (i == 0):\n",
    "            bt_df = backtest_df\n",
    "        else:\n",
    "            bt_df = bt_df.append(backtest_df)\n",
    "\n",
    "        cons_trades_neg.update({magic_number: max(int(file[0].iloc[17,5].split(\" \")[0]),\n",
    "                                                  int(file[0].iloc[18,5].split(\" \")[1].replace(\"(\",\"\").replace(\")\",\"\")))})\n",
    "\n",
    "bt_df = bt_df[bt_df['Balance'].notna()].reset_index(drop=True)\n",
    "bt_df['Tiempo'] = pd.to_datetime(bt_df['Tiempo'])\n",
    "bt_df['Beneficios'] = pd.to_numeric(bt_df.Beneficios)\n",
    "bt_df['Balance'] = pd.to_numeric(bt_df.Balance)\n",
    "df_backtest = bt_df.copy()\n",
    "df_backtest.rename(columns = {'Tiempo': 'Close_Date', 'Beneficios': 'Profit', \n",
    "                              'Volumen': 'Units/Lots'}, inplace= True)\n",
    "df_backtest['Open_Date'] = df_backtest.Close_Date\n",
    "df_backtest['Action'] = 'Buy'\n",
    "df_backtest['Pips'] = 100"
   ]
  },
  {
   "cell_type": "code",
   "execution_count": null,
   "metadata": {},
   "outputs": [],
   "source": [
    "# df_backtest['Profit_neg'] = np.where(df_backtest['Profit'] < 0, 1, 0)\n",
    "# df_backtest['Profit_pos'] = np.where(df_backtest['Profit'] > 0, 1, 0)\n",
    "# total_neg_trades = df_backtest.Profit_neg.sum()\n",
    "# total_pos_trades = df_backtest.Profit_pos.sum()\n",
    "# win_trades_ratio = round(total_pos_trades/(total_neg_trades+total_pos_trades),2)\n",
    "\n",
    "# df_trades = df_backtest[['Close_Date', 'Profit', 'Profit_neg', 'Profit_pos']].copy()\n",
    "# df_trades['Cons_neg_trades'] =  df_trades.Profit_neg * (df_trades.Profit_neg.groupby((df_trades.Profit_neg != df_trades.Profit_neg.shift()).cumsum()).cumcount() + 1)\n",
    "# df_trades['Cons_neg_shift'] = df_trades.Cons_neg_trades.shift(-1).fillna(0)\n",
    "# df_trades['Cons_neg_max'] = np.where(df_trades.Cons_neg_trades > df_trades.Cons_neg_shift, df_trades.Cons_neg_trades, 0)\n",
    "# df_trades['Cons_pos_trades'] =  df_trades.Profit_pos * (df_trades.Profit_pos.groupby((df_trades.Profit_pos != df_trades.Profit_pos.shift()).cumsum()).cumcount() + 1)\n",
    "# df_trades['Cons_pos_shift'] = df_trades.Cons_pos_trades.shift(-1).fillna(0)\n",
    "# df_trades['Cons_pos_max'] = np.where(df_trades.Cons_pos_trades > df_trades.Cons_pos_shift, df_trades.Cons_pos_trades, 0)\n",
    "\n",
    "# max_cons_loss = df_trades.Cons_neg_max.max()\n",
    "# max_cons_win = df_trades.Cons_pos_max.max()\n",
    "# mean_cons_loss = df_trades[df_trades.Cons_neg_max>0]['Cons_neg_max'].mean()\n",
    "# mean_cons_win = df_trades[df_trades.Cons_pos_max>0]['Cons_pos_max'].mean()\n",
    "# mean_loss = abs(round(df_trades[df_trades.Profit_neg==1]['Profit'].mean(),2))\n",
    "# mean_win = round(df_trades[df_trades.Profit_pos==1]['Profit'].mean(),2)\n",
    "# success_rate = round(max_cons_win/(max_cons_loss+max_cons_win),2)\n",
    "# win_loss_rate = round(mean_loss/(mean_loss+mean_win),2)\n",
    "# win_div = round(success_rate-win_loss_rate,2)*100"
   ]
  },
  {
   "cell_type": "code",
   "execution_count": null,
   "metadata": {},
   "outputs": [],
   "source": [
    "df_ins = stat_tools(df_backtest)\n",
    "\n",
    "# DFs with de info\n",
    "df_stats = df_ins.get_lots()"
   ]
  },
  {
   "cell_type": "code",
   "execution_count": null,
   "metadata": {},
   "outputs": [],
   "source": [
    "df_stats"
   ]
  }
 ],
 "metadata": {
  "kernelspec": {
   "display_name": "Python 3",
   "language": "python",
   "name": "python3"
  },
  "language_info": {
   "codemirror_mode": {
    "name": "ipython",
    "version": 3
   },
   "file_extension": ".py",
   "mimetype": "text/x-python",
   "name": "python",
   "nbconvert_exporter": "python",
   "pygments_lexer": "ipython3",
   "version": "3.8.2"
  }
 },
 "nbformat": 4,
 "nbformat_minor": 4
}
