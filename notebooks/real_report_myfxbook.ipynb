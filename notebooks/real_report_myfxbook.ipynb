{
 "cells": [
  {
   "cell_type": "code",
   "execution_count": null,
   "metadata": {},
   "outputs": [],
   "source": [
    "from tools.stat_tools.stat_tools import *\n",
    "from tools.visualization.visualization import *\n",
    "from tools.stat_tools.bt_utils import *\n",
    "\n",
    "import pandas as pd\n",
    "import numpy as np\n",
    "import datetime as dt\n",
    "import math\n",
    "import matplotlib.dates as mdates\n",
    "import sklearn.metrics as sk\n",
    "\n",
    "\n",
    "pd.options.mode.chained_assignment = None "
   ]
  },
  {
   "cell_type": "code",
   "execution_count": null,
   "metadata": {},
   "outputs": [],
   "source": [
    "# # DQG \n",
    "# cesta = 'DQG'\n",
    "# magic_in_real = ['22018', '22058', '22068', '18058', '18065', '18024', '19106', '20025', '22015', '22020', '18027', '25015', \n",
    "#                  '22000', '18076', '22172', '25006', '25035', '25099', '18090', '22021', '22035', '22059', '22087', '22129', \n",
    "#                  '25013', '25090', '25355', '220931']\n",
    "# file_name = '../data/darwinex_DQG.csv'\n",
    "# ini_balance = 2000\n",
    "\n",
    "# QDQ\n",
    "cesta = 'QDQ'\n",
    "magic_in_real = ['22014', '22070', '22093', '18075', '25184', '18062', '22007', '25144', '25354', '25024', '25098', '25232', \n",
    "                 '25305', '25329', '25350', '25400']\n",
    "file_name = '../data/darwinex_QDQ.csv'\n",
    "ini_balance = 500\n",
    "\n",
    "df_csv = pd.read_csv(file_name,sep = \",\")\n",
    "\n",
    "df_csv = df_csv[df_csv['Magic Number'].isin(magic_in_real)]\n",
    "df_csv = df_csv[df_csv['Profit'].notna()]\n",
    "df_csv['Magic Number'] = df_csv['Magic Number'].astype(int).astype(str)\n",
    "\n",
    "df_csv.columns = [c.replace(' ', '_') for c in df_csv.columns]\n",
    "df_csv['Open_Date'] = pd.to_datetime(df_csv['Open_Date'])\n",
    "df_csv['Close_Date'] = pd.to_datetime(df_csv['Close_Date'])"
   ]
  },
  {
   "cell_type": "markdown",
   "metadata": {},
   "source": [
    "### Stats of set in real"
   ]
  },
  {
   "cell_type": "code",
   "execution_count": null,
   "metadata": {},
   "outputs": [],
   "source": [
    "# Creating all info needed\n",
    "# Instancia\n",
    "df_ins = stat_tools(df_csv, ini_balance)\n",
    "\n",
    "# DFs with de info\n",
    "df_stats = df_ins.get_stat()\n",
    "df_port = df_ins.get_stat(portfolio = cesta)\n",
    "df_resumen = df_ins.profit_per_period() \n",
    "df_magic_evolution = df_ins.set_magic_evolution()\n",
    "df_port_evolution = df_ins.set_port_evolution()"
   ]
  },
  {
   "cell_type": "markdown",
   "metadata": {},
   "source": [
    "### Graph"
   ]
  },
  {
   "cell_type": "code",
   "execution_count": null,
   "metadata": {},
   "outputs": [],
   "source": [
    "fig_ins = sets_visualization(df_csv, magic_in_real)\n",
    "fig = fig_ins.evolution_plot(df_port_evolution, df_magic_evolution, df_resumen)\n",
    "fig.show()"
   ]
  },
  {
   "cell_type": "code",
   "execution_count": null,
   "metadata": {},
   "outputs": [],
   "source": [
    "fig_2 = fig_ins.month_profit_heatmap(df_resumen)\n",
    "fig_2.show()"
   ]
  },
  {
   "cell_type": "code",
   "execution_count": null,
   "metadata": {},
   "outputs": [],
   "source": [
    "display(df_port)\n",
    "df_stats"
   ]
  },
  {
   "cell_type": "markdown",
   "metadata": {},
   "source": [
    "#### Comentarios\n",
    "- 18075: semana de perdida. Curva comportamiento en zigzag, hacer seguimiento\n",
    "- 22070: semana sin trades. Curva muy temprana, segunda semana muy perdedora\n",
    "- 22014: semana de perdida. Curva con buen comportamiento, empezando comportamiento en zigzag\n",
    "- 22093: quinta semana de perdida. Curva comportamiento en zig zag, hacer seguimiento\n",
    "- 25184: quinta semana sin trades. Curva con buen comportamiento\n",
    "- 18062: segunda semana de ganancia. Curva con buen comportamiento\n",
    "- 22007: semana sin trades. Curva temprana para analizar\n",
    "- 25144: semana sin trades. 3 meses seguidos en perdida, posible para eliminar por cuarto mes seguido de perdida\n",
    "- 25354: semana de perdida. Curva en DD, parece recuperar, hacer seguimiento\n",
    "- 25024: semana de perdida. Curva temprana, con buen comportamiento\n",
    "- 25098: semana de perdida. Pocos trades para analizar\n",
    "- 25232: quinta semana de perdida. Curva en DD, sigue cayendo\n",
    "- 25305: sexta semana sin trades. Set sin operar\n",
    "- 25329: semana de perdidas. Pocos trades para analizar\n",
    "- 25350: semana de perdida. Curva con buen comportamiento\n",
    "- 25400: semana de perdida. Sets con pocos trades para analizar"
   ]
  },
  {
   "cell_type": "markdown",
   "metadata": {},
   "source": [
    "#### Comentarios\n",
    "\n",
    "- 22018: septima semana sin trades. Curva con buen comportamiento, un mes sin operar, revisar que pasa\n",
    "- 22058: semana de perdida. Curva saliendo de DD, curva con buen comportamiento\n",
    "- 22068: semana sin trades. Mas de 6 meses en la cuenta y muy poco trades, posible para eliminar\n",
    "- 18058: semana de perdida. Tiene buena curva, en maximos, 2 meses consecutivos en perdida, hacer seguimiento\n",
    "- 18065: semana de ganancia. Tiene buena curva, en maximos, semana muy ganadora, curva con buen comportamiento\n",
    "- 18024: septima semana sin trades. Set muy tendencial, hacer seguimiento, un mes sin operar, revisar que pasa\n",
    "- 19106: semana sin trades. Curva sale del DD, semana muy ganadora\n",
    "- 20025: decima semana sin trades. Mas de 6 meses en la cuenta y muy poco trades, posible para eliminar\n",
    "- 22015: tercera semana de perdida. Curva parece desacoplar, hacer seguimiento\n",
    "- 22020: semana de perdida. Pocos trades, falta evolucion de la curva, 7 meses y muy pocos trades, hacer seguimiento\n",
    "- 18027: septima semana sin trades. Curva en zigzag, ni gana ni pierde. Seguir evolucion de la curva, posible para eliminar\n",
    "- 25015: segunda semana de perdida. Curva con buen comportamiento\n",
    "- 18076: semana de perdida. En maximos, buenas metricas\n",
    "- 22000: segunda semana de ganancia. Curva parece tener buen comportamiento\n",
    "- 22172: semana de perdida. Curva en zig zag, hacer seguimiento\n",
    "- 25006: semana sin trades. Curva en DD, perdida desde el principio en real\n",
    "- 25035: semana sin trades. Parece tener buena curva, buenas metricas, semana muy ganadora\n",
    "- 25099: semana de ganancia. Curva con buen comportamiento\n",
    "- 18090: quinta semana de ganancia. Curva con buen comportamiento, semana de minima ganancia\n",
    "- 22021: semana de perdida. Pocos trades, falta evolucion de la curva \n",
    "- 22035: segunda semana de ganancia. Pocos trades, falta evolucion de la curva \n",
    "- 22059: semana sin trades. Hacer seguimiento de la curva, parece recuperar\n",
    "- 22087: segunda semana sin trades. Pocos trades, falta elvolucion de la curva\n",
    "- 22129: segunda semana de ganancia. Curva parece salir del DD, hacer seguimiento de la curva\n",
    "- 25013: semana sin trades. Pocos trades, falta elvolucion de la curva\n",
    "- 25090: semana sin trades. Curva en DD, hacer seguimiento\n",
    "- 25355: septima semana sin trades. Curva parece tener buen comportamiento\n",
    "- 220931: semana de ganancia. Curva muy temprana, hacer seguimiento"
   ]
  },
  {
   "cell_type": "code",
   "execution_count": null,
   "metadata": {},
   "outputs": [],
   "source": [
    "bt_stats = get_df_stats(magic_in_real)\n",
    "bt_stats"
   ]
  },
  {
   "cell_type": "code",
   "execution_count": null,
   "metadata": {},
   "outputs": [],
   "source": [
    "fig = fig_ins.plot_regression()\n",
    "fig.show()"
   ]
  }
 ],
 "metadata": {
  "kernelspec": {
   "display_name": "Python 3",
   "language": "python",
   "name": "python3"
  },
  "language_info": {
   "codemirror_mode": {
    "name": "ipython",
    "version": 3
   },
   "file_extension": ".py",
   "mimetype": "text/x-python",
   "name": "python",
   "nbconvert_exporter": "python",
   "pygments_lexer": "ipython3",
   "version": "3.8.2"
  }
 },
 "nbformat": 4,
 "nbformat_minor": 4
}
