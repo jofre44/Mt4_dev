{
 "cells": [
  {
   "cell_type": "code",
   "execution_count": null,
   "metadata": {},
   "outputs": [],
   "source": [
    "from tools.stat_tools.stat_tools import *\n",
    "from tools.visualization.visualization import *\n",
    "from tools.stat_tools.bt_utils import *\n",
    "\n",
    "import pandas as pd\n",
    "import random\n",
    "import numpy as np\n",
    "import datetime as dt\n",
    "import math\n",
    "import matplotlib.pyplot as plt\n",
    "import plotly.express as px\n",
    "import random\n",
    "import os\n",
    "import glob\n",
    "\n",
    "pd.options.mode.chained_assignment = None "
   ]
  },
  {
   "cell_type": "markdown",
   "metadata": {},
   "source": [
    "## Lectura de Backtest"
   ]
  },
  {
   "cell_type": "code",
   "execution_count": null,
   "metadata": {},
   "outputs": [],
   "source": [
    "magics = ['22014', '22070', '22093', '18075', '25184', '18062', '22007', '25144', '25354', '25024', '25098', '25232', '25305', \n",
    "          '25329', '25350', '25400']\n",
    "bt_df = read_backtest(magics, verbose = True)\n",
    "# bt_df"
   ]
  },
  {
   "cell_type": "code",
   "execution_count": null,
   "metadata": {},
   "outputs": [],
   "source": [
    "# bt_df.to_pickle(\"./backtest_data.pkl\")\n",
    "# bt_df = pd.read_pickle(\"./backtest_data.pkl\")"
   ]
  },
  {
   "cell_type": "markdown",
   "metadata": {},
   "source": [
    "## Correlacion de Sets"
   ]
  },
  {
   "cell_type": "code",
   "execution_count": null,
   "metadata": {
    "scrolled": true
   },
   "outputs": [],
   "source": [
    "df_series = bt_df[['Close_Date', 'Magic_Number', 'Profit']]\n",
    "# df_series = df_series.drop(df_series[df_series['Magic_Number'].isin(dqg_new)].index.tolist())\n",
    "\n",
    "df_series['Close_Date'] = df_series['Close_Date'].dt.strftime('%Y-%m-%d')\n",
    "df_series = df_series.groupby(['Close_Date', 'Magic_Number'], as_index = False)['Profit'].sum().reset_index()\n",
    "\n",
    "df_pivot = df_series.pivot(index = ['index', 'Close_Date'], columns = 'Magic_Number', values = 'Profit').fillna(0).reset_index()\n",
    "df_pivot =  df_pivot.drop(['index'], axis=1)\n",
    "corr = df_pivot.groupby('Close_Date').sum().corr().abs()\n",
    "\n",
    "corr.style.background_gradient(cmap='coolwarm')"
   ]
  },
  {
   "cell_type": "markdown",
   "metadata": {},
   "source": [
    "<h1><center>DQG</center></h1>"
   ]
  },
  {
   "cell_type": "markdown",
   "metadata": {},
   "source": [
    "## Creacion de Portafolio"
   ]
  },
  {
   "cell_type": "code",
   "execution_count": null,
   "metadata": {},
   "outputs": [],
   "source": [
    "df_backtest = bt_df.copy()\n",
    "# Parametros de entrada\n",
    "max_sets = 30\n",
    "weights_dict = {'Exp_Profit': 1, 'Profit_per_Day': 1, 'PF_nor': 1, 'R2_KPI': 1, 'Win/DD_Ratio_Month': 1, \n",
    "                'Max_Profit': 1, 'Max_DD': 2, 'DD_Duration': 1, 'Bkn_KPI': 1, 'Sharpe_Ratio': 1, 'SQN': 1,\n",
    "                'Win_divergence': 0}\n",
    "treshold = 0.25\n",
    "\n",
    "# Cleaning df_backtest\n",
    "# df_backtest = df_backtest.drop(df_backtest[df_backtest['Magic_Number'].isin(qdq)].index.tolist())\n",
    "\n",
    "magics_available = df_backtest.Magic_Number.unique()\n",
    "\n",
    "corr = corr[corr.index.isin(magics_available)]\n",
    "corr = corr[[*magics_available]]\n",
    "\n",
    "# Cesta Nueva\n",
    "# qdq = ['22014', '22070', '22093', '18075', '25184', '18062', '25144', '25354']\n",
    "\n",
    "dqg = ['22018', '22058', '22068', '18058', '18065', '18024', '19106', '20025', '22015', '22020', '18027', '25015', '22000', \n",
    "       '18076', '22172', '25006', '25035', '25099', '18090', '22021', '22035', '22059', '22087', '22129', '25013', '25090', \n",
    "       '25355']"
   ]
  },
  {
   "cell_type": "code",
   "execution_count": null,
   "metadata": {},
   "outputs": [],
   "source": [
    "dqg_new, df_ins = portfolio_creation(df_backtest, dqg, weights_dict, corr, treshold = treshold)"
   ]
  },
  {
   "cell_type": "code",
   "execution_count": null,
   "metadata": {},
   "outputs": [],
   "source": [
    "magic_list = dqg_new\n",
    "color_list = sets_color(magic_list)\n",
    "print(\"----- Total sets: {}\".format(len(magic_list)))\n",
    "print(\"\\n---- Sets: {}\".format(magic_list))\n",
    "\n",
    "df_magic_evolution = df_ins.set_magic_evolution()\n",
    "df_port_evolution = df_ins.set_port_evolution(df_backtest[df_backtest.Magic_Number.isin(magic_list)])\n",
    "df_resumen = df_ins.profit_per_period() \n",
    "\n",
    "df_port = df_ins.get_stat('DQG', df_backtest[df_backtest.Magic_Number.isin(magic_list)])\n",
    "display(df_port)\n",
    "\n",
    "\n",
    "fig_ins = sets_visualization(df_backtest, magic_list)\n",
    "fig = fig_ins.evolution_plot(df_port_evolution, df_magic_evolution, df_resumen, color_list, plot_pf = False, )\n",
    "\n",
    "fig.show()"
   ]
  },
  {
   "cell_type": "markdown",
   "metadata": {},
   "source": [
    "## Superposicion de DD"
   ]
  },
  {
   "cell_type": "code",
   "execution_count": null,
   "metadata": {},
   "outputs": [],
   "source": [
    "fig = fig_ins.plot_dd(color_list)\n",
    "fig.show()"
   ]
  },
  {
   "cell_type": "markdown",
   "metadata": {},
   "source": [
    "## Regresion"
   ]
  },
  {
   "cell_type": "code",
   "execution_count": null,
   "metadata": {},
   "outputs": [],
   "source": [
    "fig = fig_ins.plot_regression(color_list)\n",
    "fig.show()"
   ]
  },
  {
   "cell_type": "markdown",
   "metadata": {},
   "source": [
    "<h1><center>QDQ</center></h1>"
   ]
  },
  {
   "cell_type": "markdown",
   "metadata": {},
   "source": [
    "## Creacion de Portafolio"
   ]
  },
  {
   "cell_type": "code",
   "execution_count": null,
   "metadata": {},
   "outputs": [],
   "source": [
    "# Cleaning df_backtest\n",
    "dqg_new= dqg\n",
    "df_backtest = bt_df.copy()\n",
    "df_backtest.rename(columns = {'Tiempo': 'Close_Date', 'Beneficios': 'Profit', \n",
    "                              'Volumen': 'Units/Lots'}, inplace= True)\n",
    "df_backtest['Open_Date'] = df_backtest.Close_Date\n",
    "df_backtest['Action'] = 'Buy'\n",
    "df_backtest['Pips'] = 100\n",
    "df_backtest = df_backtest.drop(df_backtest[df_backtest['Magic_Number'].isin(dqg_new)].index.tolist())\n",
    "\n",
    "magics_available = df_backtest.Magic_Number.unique()\n",
    "corr = corr[corr.index.isin(magics_available)]\n",
    "corr = corr[[*magics_available]]\n",
    "\n",
    "\n",
    "\n",
    "qdq = ['22014', '22070', '22093', '18075', '25184', '18062', '25144', '25354']\n",
    "qdq, df_ins = portfolio_creation(df_backtest, qdq, weights_dict, corr, treshold = treshold)"
   ]
  },
  {
   "cell_type": "code",
   "execution_count": null,
   "metadata": {},
   "outputs": [],
   "source": [
    "magic_list = qdq\n",
    "color_list = sets_color(magic_list)\n",
    "print(\"----- Total sets: {}\".format(len(magic_list)))\n",
    "print(\"\\n---- Sets: {}\".format(magic_list))\n",
    "\n",
    "df_magic_evolution = df_ins.set_magic_evolution()\n",
    "df_port_evolution = df_ins.set_port_evolution(df_backtest[df_backtest.Magic_Number.isin(magic_list)])\n",
    "df_resumen = df_ins.profit_per_period() \n",
    "\n",
    "df_port = df_ins.get_stat('DQG', df_backtest[df_backtest.Magic_Number.isin(magic_list)])\n",
    "display(df_port)\n",
    "\n",
    "fig_ins = sets_visualization(df_backtest, magic_list)\n",
    "fig = fig_ins.evolution_plot(df_port_evolution, df_magic_evolution, df_resumen, color_list, plot_pf = False)\n",
    "\n",
    "fig.show()"
   ]
  },
  {
   "cell_type": "markdown",
   "metadata": {},
   "source": [
    "## Superposicion de DD"
   ]
  },
  {
   "cell_type": "code",
   "execution_count": null,
   "metadata": {},
   "outputs": [],
   "source": [
    "fig = fig_ins.plot_dd(color_list)\n",
    "fig.show()"
   ]
  },
  {
   "cell_type": "markdown",
   "metadata": {},
   "source": [
    "## Regresion"
   ]
  },
  {
   "cell_type": "code",
   "execution_count": null,
   "metadata": {},
   "outputs": [],
   "source": [
    "fig = fig_ins.plot_regression(color_list)\n",
    "fig.show()"
   ]
  },
  {
   "cell_type": "markdown",
   "metadata": {},
   "source": [
    "## Portfolio Correlation"
   ]
  },
  {
   "cell_type": "code",
   "execution_count": null,
   "metadata": {},
   "outputs": [],
   "source": [
    "df_series = bt_df[['Tiempo', 'Magic_Number', 'Beneficios']]\n",
    "total_sets = dqg_new + qdq\n",
    "df_series = df_series[df_series.Magic_Number.isin(total_sets)]\n",
    "df_series['Portfolio'] = None\n",
    "df_series.loc[df_series.Magic_Number.isin(dqg_new), 'Portfolio'] = 'DQG'\n",
    "df_series.loc[df_series.Magic_Number.isin(qdq), 'Portfolio'] = 'NP'\n",
    "df_series = df_series[['Tiempo', 'Portfolio', 'Beneficios']]\n",
    "\n",
    "df_series['Tiempo'] = df_series['Tiempo'].dt.strftime('%Y-%m-%d')\n",
    "df_series = df_series.groupby(['Tiempo', 'Portfolio'], as_index = False)['Beneficios'].sum().reset_index()\n",
    "\n",
    "df_pivot = df_series.pivot(index = ['index', 'Tiempo'], columns = 'Portfolio', values = 'Beneficios').fillna(0).reset_index()\n",
    "df_pivot =  df_pivot.drop(['index'], axis=1)\n",
    "corr = df_pivot.groupby('Tiempo').sum().corr().abs()\n",
    "\n",
    "corr.style.background_gradient(cmap='coolwarm')"
   ]
  }
 ],
 "metadata": {
  "kernelspec": {
   "display_name": "Python 3",
   "language": "python",
   "name": "python3"
  },
  "language_info": {
   "codemirror_mode": {
    "name": "ipython",
    "version": 3
   },
   "file_extension": ".py",
   "mimetype": "text/x-python",
   "name": "python",
   "nbconvert_exporter": "python",
   "pygments_lexer": "ipython3",
   "version": "3.8.2"
  }
 },
 "nbformat": 4,
 "nbformat_minor": 2
}
