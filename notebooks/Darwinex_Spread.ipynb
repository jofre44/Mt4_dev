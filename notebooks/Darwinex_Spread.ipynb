{
 "cells": [
  {
   "cell_type": "code",
   "execution_count": null,
   "metadata": {},
   "outputs": [],
   "source": [
    "import darwinex_ticks as dtw1\n",
    "import pandas as pd\n",
    "import numpy as np\n",
    "import dateutil.relativedelta\n",
    "from datetime import date\n",
    "from datetime import timedelta  \n",
    "import glob, os "
   ]
  },
  {
   "cell_type": "code",
   "execution_count": null,
   "metadata": {},
   "outputs": [],
   "source": [
    "spreads_factors=pd.read_csv(\"..\\configs\\Spreads_factors.txt\", header = None, sep = '=', names = ['Pair','Spread_F'])\n",
    "configs_info=pd.read_csv(\"..\\configs\\configs.txt\", header = None, sep= \"=\", names=['Desc', 'Value'])\n",
    "\n",
    "user= configs_info[configs_info.Desc=='user'].Value.iloc[0]\n",
    "password= configs_info[configs_info.Desc=='password'].Value.iloc[0]\n",
    "host_name= configs_info[configs_info.Desc=='host_name'].Value.iloc[0]\n",
    "start_date= configs_info[configs_info.Desc=='start_date'].Value.iloc[0]\n",
    "end_date= configs_info[configs_info.Desc=='end_date'].Value.iloc[0]\n",
    "percentile= pd.to_numeric(configs_info[configs_info.Desc=='percentile'].Value.iloc[0])"
   ]
  },
  {
   "cell_type": "code",
   "execution_count": null,
   "metadata": {},
   "outputs": [],
   "source": [
    "dwt = dtw1.DarwinexTicksConnection(dwx_ftp_user=user,\n",
    "                       dwx_ftp_pass=password,\n",
    "                       dwx_ftp_hostname=host_name,\n",
    "                       dwx_ftp_port=21)"
   ]
  },
  {
   "cell_type": "code",
   "execution_count": null,
   "metadata": {},
   "outputs": [],
   "source": [
    "spreads_info = pd.DataFrame(columns=['Pair', 'Spread'])\n",
    "\n",
    "total_pair = pd.DataFrame(dwt._ftpObj.nlst()[2:])[0]"
   ]
  },
  {
   "cell_type": "code",
   "execution_count": null,
   "metadata": {},
   "outputs": [],
   "source": [
    "path = r'C:\\Users\\Isabel Cristina\\Desktop\\Algo_trading_py\\data\\*.csv'\n",
    "csv_files = reports = glob.glob(path)\n",
    "csv_files"
   ]
  },
  {
   "cell_type": "code",
   "execution_count": null,
   "metadata": {},
   "outputs": [],
   "source": [
    "start_date = \"2019-01-01 00\"\n",
    "end_date = \"2019-01-01 23\"\n",
    "print(\"Total files: {}\".format(len(csv_files)))\n",
    "i = 1\n",
    "file = csv_files[1]\n",
    "for file in csv_files:\n",
    "    pair = file.split(\"\\\\\")[-1][0:6]\n",
    "    print(\"\\n--- CREATING DATA FOR FILE {}: {} ---\\n\".format(i, pair))\n",
    "\n",
    "    # Reading data from darwinex\n",
    "    print(\"Dowloading from {} to {}\".format(start_date, end_date))\n",
    "    data = dwt.ticks_from_darwinex(pair, start=start_date, end=end_date)\n",
    "    data['Price'] = (data.Ask + data.Bid) / 2\n",
    "    data_ohlc = data['Price'].resample('1Min').ohlc()\n",
    "\n",
    "    # Date for filtering\n",
    "    start_date_filter = pd.to_datetime('2006-07-01').tz_localize('UTC')\n",
    "    min_date = min(data_ohlc.index)\n",
    "    # min_hour = data_ohlc.Hour[0]\n",
    "    max_date = max(data_ohlc.index)\n",
    "\n",
    "    # Reading data from mt4\n",
    "    print(\"Reading csv\")\n",
    "    data_mt = pd.read_csv(file, header=None)\n",
    "\n",
    "    # Procesing data\n",
    "    data_mt.columns = [\"Date\", \"Hora\", \"open\", \"high\", \"low\", \"close\", \"Vol\"]\n",
    "    data_mt['Time'] = pd.to_datetime(data_mt['Date'] + ' ' + data_mt['Hora'])\n",
    "    data_mt = data_mt[['Time', 'open', 'high', 'low', 'close']].set_index('Time')\n",
    "\n",
    "    # Setting time zone\n",
    "    data_mt.index = data_mt.index.tz_localize('UTC')\n",
    "    data_mt.index = data_mt.index - pd.Timedelta(hours=2)\n",
    "    data_mt = data_mt.loc[start_date_filter:min_date]\n",
    "\n",
    "    # Merging data\n",
    "    data_total = data_mt.append(data_ohlc).reset_index()\n",
    "    data_total['Date'] = data_total.Time.dt.strftime('%Y.%m.%d')\n",
    "    data_total['Hour'] = data_total.Time.dt.strftime('%H:%M')\n",
    "    data_total = data_total[['Date', 'Hour', 'open', 'high', 'low', 'close']]\n",
    "\n",
    "    # Saving csv data\n",
    "    print(\"Saving update data...\")\n",
    "    data_total.to_csv(\"..\\data\\data_updated\\{}_from_{}_to_{}.csv\".format(pair, str(start_date).split(sep=\" \")[0],\n",
    "                                                    str(max_date).split(sep=\" \")[0]), header=False,\n",
    "                      index=False)\n",
    "\n",
    "    i += 1\n",
    "    del data, data_ohlc, data_total, data_mt\n",
    "print (\"\\n--- DONE ---\")"
   ]
  },
  {
   "cell_type": "code",
   "execution_count": null,
   "metadata": {},
   "outputs": [],
   "source": [
    "dwt.list_of_files('EURGBP').head(10)"
   ]
  },
  {
   "cell_type": "code",
   "execution_count": null,
   "metadata": {},
   "outputs": [],
   "source": [
    "dwt.ticks_from_darwinex('EURGBP', start='2017-10-01 00', end='2017-10-02 23', verbose=True)"
   ]
  },
  {
   "cell_type": "code",
   "execution_count": null,
   "metadata": {},
   "outputs": [],
   "source": [
    "data_1 = data.copy()\n",
    "# data_1 = data_1.reset_index()\n",
    "# data_1['Time'] = pd.to_datetime(data_1['Time'])\n",
    "data_1.index = pd.to_datetime(data_1.index)\n",
    "data_1.info()"
   ]
  },
  {
   "cell_type": "code",
   "execution_count": null,
   "metadata": {},
   "outputs": [],
   "source": [
    "data_1['Price'] = (data_1.Ask+data_1.Bid)/2\n",
    "data_ohlc = data_1['Price'].resample('1Min').ohlc()\n",
    "# data_ohlc = data_ohlc.reset_index()\n",
    "data_ohlc"
   ]
  },
  {
   "cell_type": "code",
   "execution_count": null,
   "metadata": {},
   "outputs": [],
   "source": [
    "# data_ohlc['Date'] = data_ohlc['Time'].dt.strftime('%Y/%m/%d')\n",
    "# data_ohlc['Hour'] = data_ohlc['Time'].dt.strftime('%H:%M')"
   ]
  },
  {
   "cell_type": "code",
   "execution_count": null,
   "metadata": {},
   "outputs": [],
   "source": [
    "# data_ohlc = data_ohlc[['Date', 'Hour', 'open', 'high', 'low', 'close']]\n",
    "data_ohlc.info()"
   ]
  },
  {
   "cell_type": "code",
   "execution_count": null,
   "metadata": {},
   "outputs": [],
   "source": [
    "start_date = pd.to_datetime('2006-07-01').tz_localize('UTC')\n",
    "min_date = min(data_ohlc.index)\n",
    "# min_hour = data_ohlc.Hour[0]\n",
    "max_date = max(data_ohlc.index)"
   ]
  },
  {
   "cell_type": "code",
   "execution_count": null,
   "metadata": {},
   "outputs": [],
   "source": [
    "data_mt = pd.read_csv(\"EURUSD1.csv\", header = None)\n",
    "data_aux = data_mt.copy()"
   ]
  },
  {
   "cell_type": "code",
   "execution_count": null,
   "metadata": {},
   "outputs": [],
   "source": [
    "data_mt = data_aux.copy()\n",
    "data_mt.columns = [\"Date\", \"Hora\", \"open\", \"high\", \"low\", \"close\", \"Vol\"]\n",
    "data_mt['Time'] = pd.to_datetime(data_mt['Date'] + ' ' + data_mt['Hora'])\n",
    "# data_mt['Date'] = pd.to_datetime(data_mt.Date)\n",
    "# data_mt['Hora'] = pd.to_timestamp(data_mt.Hora, format= '%H:%M' )#.dt.time"
   ]
  },
  {
   "cell_type": "code",
   "execution_count": null,
   "metadata": {},
   "outputs": [],
   "source": [
    "# data_mt['Hora'] = data_mt.Hora - pd.Timedelta(hours=2)\n",
    "# data_mt['Hora'].to_timestamp\n",
    "# data_mt"
   ]
  },
  {
   "cell_type": "code",
   "execution_count": null,
   "metadata": {},
   "outputs": [],
   "source": [
    "# data_mt = data_mt[data_mt.Date >= start_date].reset_index()\n",
    "# data_mt[(data_mt.Date < min_date) & (data_mt.Hora < min_hour)]"
   ]
  },
  {
   "cell_type": "code",
   "execution_count": null,
   "metadata": {},
   "outputs": [],
   "source": [
    "data_mt = data_mt[['Time', 'open', 'high', 'low', 'close']].set_index('Time')\n",
    "data_mt.index = data_mt.index.tz_localize('UTC')\n",
    "data_mt"
   ]
  },
  {
   "cell_type": "code",
   "execution_count": null,
   "metadata": {},
   "outputs": [],
   "source": [
    "data_mt.index = data_mt.index - pd.Timedelta(hours=2)\n",
    "data_mt"
   ]
  },
  {
   "cell_type": "code",
   "execution_count": null,
   "metadata": {},
   "outputs": [],
   "source": [
    "data_mt = data_mt.loc[start_date:min_date]\n",
    "data_mt"
   ]
  },
  {
   "cell_type": "code",
   "execution_count": null,
   "metadata": {},
   "outputs": [],
   "source": [
    "data_total = data_mt.append(data_ohlc).reset_index()\n",
    "data_total['Date'] = data_total.Time.dt.strftime('%Y.%m.%d')\n",
    "data_total['Hour'] = data_total.Time.dt.strftime('%H:%M')\n",
    "data_total"
   ]
  },
  {
   "cell_type": "code",
   "execution_count": null,
   "metadata": {},
   "outputs": [],
   "source": [
    "data_total = data_total[['Date', 'Hour', 'open', 'high', 'low', 'close']]"
   ]
  },
  {
   "cell_type": "code",
   "execution_count": null,
   "metadata": {
    "scrolled": true
   },
   "outputs": [],
   "source": [
    "# data_total['Time'] = data_total['Time'].astype(str)"
   ]
  },
  {
   "cell_type": "code",
   "execution_count": null,
   "metadata": {},
   "outputs": [],
   "source": [
    "# data_total['Time'] = data_total['Time'].split(sep = \"+\")"
   ]
  },
  {
   "cell_type": "code",
   "execution_count": null,
   "metadata": {},
   "outputs": [],
   "source": [
    "# pd.to_datetime(data_total.index, format='%Y.%m.%d %H:%M')\n",
    "# data_total.index = data_total.index.strftime('%Y.%m.%d %H:%M').reet_index()\n",
    "# data_total['Time'].str.split(\"+\")[0]"
   ]
  },
  {
   "cell_type": "code",
   "execution_count": null,
   "metadata": {},
   "outputs": [],
   "source": [
    "data_total"
   ]
  },
  {
   "cell_type": "code",
   "execution_count": null,
   "metadata": {},
   "outputs": [],
   "source": [
    "data_total.to_csv(\"eurusd_{}_{}.csv\".format(str(start_date).split(sep = \" \")[0], \n",
    "                                            str(max_date).split(sep = \" \")[0]), header = False, \n",
    "                  index  = False)"
   ]
  },
  {
   "cell_type": "code",
   "execution_count": null,
   "metadata": {},
   "outputs": [],
   "source": [
    "data_total= data_total.index.str.split(expand=True) \n"
   ]
  },
  {
   "cell_type": "code",
   "execution_count": null,
   "metadata": {},
   "outputs": [],
   "source": [
    "pd.to_datetime('2007-01-01').tz_localize('Etc/GMT+2')"
   ]
  },
  {
   "cell_type": "code",
   "execution_count": null,
   "metadata": {},
   "outputs": [],
   "source": [
    "for pair in total_pair:\n",
    "    spread_factor=spreads_factors[spreads_factors.Pair==pair].Spread_F\n",
    "    spread_info = pd.DataFrame()\n",
    "    \n",
    "    try:\n",
    "        data = dwt.ticks_from_darwinex(pair, start=start_date, end=end_date)\n",
    "    except:\n",
    "        pass\n",
    "    \n",
    "    data_spread= dtw1.spread(data)\n",
    "    \n",
    "    try:\n",
    "        spread_pair = [round((data_spread*spread_factor.iloc[0]).quantile(percentile),5)]\n",
    "    except:\n",
    "        spread_pair = ['not in spread factor´s file, data spread : '+ str(round(np.max(data_spread),5))]\n",
    "        \n",
    "    print(pair,\" = \", spread_pair)\n",
    "    spread_info = pd.DataFrame({'Pair' : [pair],\n",
    "                           'Spread' : spread_pair})\n",
    "    spreads_info = spreads_info.append(spread_info, ignore_index=True)\n",
    "    \n",
    " \n",
    "\n",
    "str_pair = ''\n",
    "for i in range(0, (len(spreads_info))): \n",
    "        str_pair = str_pair + spreads_info['Pair'][i] + '='+ str(spreads_info['Spread'][i]) + '\\n'\n",
    "\n",
    "file = open('pairs.txt','w') \n",
    " \n",
    "file.write(str_pair) \n",
    " \n",
    "file.close() "
   ]
  },
  {
   "cell_type": "code",
   "execution_count": null,
   "metadata": {},
   "outputs": [],
   "source": [
    "np.max(data_spread[1:4])\n",
    "data_spread"
   ]
  }
 ],
 "metadata": {
  "kernelspec": {
   "display_name": "Python 3",
   "language": "python",
   "name": "python3"
  },
  "language_info": {
   "codemirror_mode": {
    "name": "ipython",
    "version": 3
   },
   "file_extension": ".py",
   "mimetype": "text/x-python",
   "name": "python",
   "nbconvert_exporter": "python",
   "pygments_lexer": "ipython3",
   "version": "3.8.2"
  }
 },
 "nbformat": 4,
 "nbformat_minor": 2
}
