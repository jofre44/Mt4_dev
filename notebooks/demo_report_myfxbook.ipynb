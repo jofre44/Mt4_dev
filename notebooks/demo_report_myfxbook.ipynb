{
 "cells": [
  {
   "cell_type": "code",
   "execution_count": null,
   "metadata": {},
   "outputs": [],
   "source": [
    "import pandas as pd\n",
    "import numpy as np\n",
    "import datetime as dt\n",
    "import math\n",
    "import matplotlib.pyplot as plt\n",
    "from tools.stat_tools.stat_tools import *\n",
    "from tools.visualization.visualization import *\n",
    "import matplotlib.dates as mdates\n",
    "import sklearn.metrics as sk\n",
    "import glob, os  \n",
    "\n",
    "pd.options.mode.chained_assignment = None "
   ]
  },
  {
   "cell_type": "code",
   "execution_count": null,
   "metadata": {},
   "outputs": [],
   "source": [
    "path = r'C:\\Users\\Isabel Cristina\\Desktop\\Algo_trading_py\\data'\n",
    "df_csv = pd.concat(map(pd.read_csv, glob.glob(os.path.join(path, \"darwinex_demo*.csv\"))))\n",
    "df_csv = df_csv[df_csv['Profit'].notna()]\n",
    "df_csv['Magic Number'] = df_csv['Magic Number'].astype(int).astype(str)\n",
    "\n",
    "df_csv.columns = [c.replace(' ', '_') for c in df_csv.columns]\n",
    "df_csv['Open_Date'] = pd.to_datetime(df_csv['Open_Date'])\n",
    "df_csv['Close_Date'] = pd.to_datetime(df_csv['Close_Date'])\n",
    "\n",
    "# Selecting sets that have at least one operation in te last month\n",
    "last_month_date = dt.date.today() - pd.DateOffset(months=1)\n",
    "magic_last_month = df_csv[df_csv.Close_Date >= last_month_date]['Magic_Number'].unique()\n",
    "df_csv = df_csv[df_csv['Magic_Number'].isin(magic_last_month)]\n",
    "\n",
    "# Deleting sets that doesn't get minimun trades and days in real\n",
    "df_res = df_csv.groupby(['Magic_Number'], as_index =  False)['Profit'].count()\n",
    "df_res = df_res.join(df_csv.groupby(['Magic_Number'])['Open_Date'].min(), on = ['Magic_Number'])\n",
    "df_res['Today_Date'] = pd.to_datetime('today', format='%Y-%m-%d')\n",
    "df_res['Days_in_Real'] = (df_res['Today_Date']-df_res['Open_Date']).dt.days\n",
    "df_res = df_res[df_res.Profit > 20]\n",
    "\n",
    "# Selecting magic_numbers and cleaning final csv\n",
    "magic_to_test = df_res.Magic_Number.unique()\n",
    "df_csv = df_csv[df_csv['Magic_Number'].isin(magic_to_test)]"
   ]
  },
  {
   "cell_type": "code",
   "execution_count": null,
   "metadata": {},
   "outputs": [],
   "source": [
    "# Creating all info needed\n",
    "# Instancia\n",
    "df_ins = stat_tools(df_csv)\n",
    "\n",
    "# DFs with de info\n",
    "df_stats = df_ins.get_stat()\n",
    "df_aux = df_stats.copy()\n",
    "\n",
    "# Deleting sets that are loosing \n",
    "df_stats = df_stats[df_stats.Profit > 0]\n",
    "\n",
    "# Deleting sets with PF lower than 1.3\n",
    "df_stats = df_stats[df_stats.PF >= 1.3]\n",
    "\n",
    "# Deleting sets with r2 lower than 0.7\n",
    "df_stats = df_stats[df_stats.R2_KPI >= 0.7]\n",
    "\n",
    "# Deleting sets with SQN less than 1\n",
    "df_stats = df_stats[df_stats.SQN > 1]\n",
    "\n",
    "# Deleting sets with Win/DD_Ratio less than 1\n",
    "df_stats = df_stats[df_stats['Win/DD_Ratio'] > 1]\n",
    "\n",
    "# Deleting sets with Trades/Month less than 1.5\n",
    "df_stats = df_stats[df_stats['Trades/Month'] > 1.5]"
   ]
  },
  {
   "cell_type": "code",
   "execution_count": null,
   "metadata": {},
   "outputs": [],
   "source": [
    "magic_good = df_stats.index.unique()\n",
    "df_csv = df_csv[df_csv['Magic_Number'].isin(magic_good)]\n",
    "df_csv = df_csv.reset_index()"
   ]
  },
  {
   "cell_type": "code",
   "execution_count": null,
   "metadata": {},
   "outputs": [],
   "source": [
    "df_ins_good = stat_tools(df_csv)\n",
    "df_resumen = df_ins_good.profit_per_period() \n",
    "df_magic_evolution = df_ins_good.set_magic_evolution()\n",
    "df_port_evolution = df_ins_good.set_port_evolution()"
   ]
  },
  {
   "cell_type": "code",
   "execution_count": null,
   "metadata": {},
   "outputs": [],
   "source": [
    "fig_ins = sets_visualization(df_csv, magic_good)\n",
    "\n",
    "fig = fig_ins.evolution_plot(df_port_evolution, df_magic_evolution, df_resumen)\n",
    "\n",
    "fig.show()"
   ]
  },
  {
   "cell_type": "code",
   "execution_count": null,
   "metadata": {},
   "outputs": [],
   "source": [
    "fig_2 = fig_ins.month_profit_heatmap(df_resumen)\n",
    "fig_2.show()"
   ]
  },
  {
   "cell_type": "code",
   "execution_count": null,
   "metadata": {
    "scrolled": true
   },
   "outputs": [],
   "source": [
    "print(\"--- Total sets: {}\".format(len(df_stats)))\n",
    "pd.set_option('display.max_rows', 999)\n",
    "df_stats"
   ]
  },
  {
   "cell_type": "code",
   "execution_count": null,
   "metadata": {},
   "outputs": [],
   "source": [
    "fig = fig_ins.plot_regression()\n",
    "fig.show()"
   ]
  }
 ],
 "metadata": {
  "kernelspec": {
   "display_name": "Python 3",
   "language": "python",
   "name": "python3"
  },
  "language_info": {
   "codemirror_mode": {
    "name": "ipython",
    "version": 3
   },
   "file_extension": ".py",
   "mimetype": "text/x-python",
   "name": "python",
   "nbconvert_exporter": "python",
   "pygments_lexer": "ipython3",
   "version": "3.8.2"
  }
 },
 "nbformat": 4,
 "nbformat_minor": 4
}
